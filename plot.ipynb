{
 "cells": [
  {
   "cell_type": "code",
   "execution_count": 1,
   "metadata": {},
   "outputs": [
    {
     "name": "stdout",
     "output_type": "stream",
     "text": [
      "[]\n"
     ]
    },
    {
     "ename": "IndexError",
     "evalue": "too many indices for array",
     "output_type": "error",
     "traceback": [
      "\u001b[1;31m---------------------------------------------------------------------------\u001b[0m",
      "\u001b[1;31mIndexError\u001b[0m                                Traceback (most recent call last)",
      "\u001b[1;32m<ipython-input-1-7192c262213e>\u001b[0m in \u001b[0;36m<module>\u001b[1;34m()\u001b[0m\n\u001b[0;32m     56\u001b[0m \u001b[1;33m\u001b[0m\u001b[0m\n\u001b[0;32m     57\u001b[0m \u001b[1;33m\u001b[0m\u001b[0m\n\u001b[1;32m---> 58\u001b[1;33m \u001b[0mplotmeans\u001b[0m\u001b[1;33m(\u001b[0m\u001b[1;36m1000\u001b[0m\u001b[1;33m)\u001b[0m\u001b[1;33m\u001b[0m\u001b[0m\n\u001b[0m",
      "\u001b[1;32m<ipython-input-1-7192c262213e>\u001b[0m in \u001b[0;36mplotmeans\u001b[1;34m(mean_of_every_x_episodes)\u001b[0m\n\u001b[0;32m     47\u001b[0m \u001b[1;33m\u001b[0m\u001b[0m\n\u001b[0;32m     48\u001b[0m     \u001b[0mplt\u001b[0m\u001b[1;33m.\u001b[0m\u001b[0mfigure\u001b[0m\u001b[1;33m(\u001b[0m\u001b[1;33m)\u001b[0m\u001b[1;33m\u001b[0m\u001b[0m\n\u001b[1;32m---> 49\u001b[1;33m     \u001b[0mplt\u001b[0m\u001b[1;33m.\u001b[0m\u001b[0mplot\u001b[0m\u001b[1;33m(\u001b[0m\u001b[0mcurrent\u001b[0m\u001b[1;33m[\u001b[0m\u001b[1;33m:\u001b[0m\u001b[1;33m,\u001b[0m \u001b[1;36m0\u001b[0m\u001b[1;33m]\u001b[0m\u001b[1;33m,\u001b[0m \u001b[0mcurrent\u001b[0m\u001b[1;33m[\u001b[0m\u001b[1;33m:\u001b[0m\u001b[1;33m,\u001b[0m \u001b[1;36m1\u001b[0m\u001b[1;33m]\u001b[0m\u001b[1;33m,\u001b[0m \u001b[1;34m'r.-'\u001b[0m\u001b[1;33m)\u001b[0m\u001b[1;33m\u001b[0m\u001b[0m\n\u001b[0m\u001b[0;32m     50\u001b[0m     \u001b[0mplt\u001b[0m\u001b[1;33m.\u001b[0m\u001b[0mtitle\u001b[0m\u001b[1;33m(\u001b[0m\u001b[0mconfigtext\u001b[0m\u001b[1;33m,\u001b[0m \u001b[0mfontsize\u001b[0m\u001b[1;33m=\u001b[0m\u001b[1;36m10\u001b[0m\u001b[1;33m)\u001b[0m\u001b[1;33m\u001b[0m\u001b[0m\n\u001b[0;32m     51\u001b[0m     \u001b[0mplt\u001b[0m\u001b[1;33m.\u001b[0m\u001b[0mylabel\u001b[0m\u001b[1;33m(\u001b[0m\u001b[1;34m'highest Value'\u001b[0m\u001b[1;33m)\u001b[0m\u001b[1;33m\u001b[0m\u001b[0m\n",
      "\u001b[1;31mIndexError\u001b[0m: too many indices for array"
     ]
    }
   ],
   "source": [
    "import json\n",
    "import matplotlib.pyplot as plt\n",
    "import numpy as np\n",
    "import os\n",
    "\n",
    "\n",
    "\n",
    "# def plotraw():\n",
    "#\n",
    "#     with open('./learning/data//output.txt', \"r\") as infile:\n",
    "#         mylist = json.load(infile)\n",
    "#     #convert from list zu nparray\n",
    "#     a = np.asarray(mylist)\n",
    "#\n",
    "#     plt.figure()\n",
    "#     plt.ylabel('highest Value')\n",
    "#     plt.xlabel('Episode')\n",
    "#\n",
    "#     plt.plot(a[:,0], a[:,1], 'r.-')\n",
    "#     plt.show()\n",
    "\n",
    "outputname = \"test99\"\n",
    "path  = os.getcwd()\n",
    "\n",
    "def plotmeans(mean_of_every_x_episodes):\n",
    "    with open(path + '/data/'+outputname+'output.txt', \"r\") as infile:\n",
    "      mylist = json.load(infile)\n",
    "\n",
    "      #extract first item from list which is the configuration info\n",
    "      configtext = mylist[0]\n",
    "      mylist.pop(0)\n",
    "      print(mylist)\n",
    "\n",
    "      # convert from list zu nparray\n",
    "    numplist = np.asarray(mylist)\n",
    "    i=0\n",
    "    current = np.array([0,0])\n",
    "\n",
    "    while i < (len(numplist) / mean_of_every_x_episodes):\n",
    "      new_value = np.mean(numplist[i*mean_of_every_x_episodes:(i+1)*mean_of_every_x_episodes], axis=0)\n",
    "      current = np.vstack((current, new_value))\n",
    "      #print(new_value)\n",
    "      i = i + 1\n",
    "\n",
    "    current = np.delete(current, 0, 0)\n",
    "    #print(current)\n",
    "\n",
    "    plt.figure()\n",
    "    plt.plot(current[:, 0], current[:, 1], 'r.-')\n",
    "    plt.title(configtext, fontsize=10)\n",
    "    plt.ylabel('highest Value')\n",
    "    plt.xlabel('Episode')\n",
    "    plt.text(4, 1, configtext, ha='left', rotation=15, wrap=True)\n",
    "    plt.text(1, -0.6, r'$\\sum_{i=0}^\\infty x_i$', fontsize=200)\n",
    "    plt.show()\n",
    "\n",
    "\n",
    "plotmeans(1000)"
   ]
  }
 ],
 "metadata": {
  "kernelspec": {
   "display_name": "Python 3",
   "language": "python",
   "name": "python3"
  },
  "language_info": {
   "codemirror_mode": {
    "name": "ipython",
    "version": 3
   },
   "file_extension": ".py",
   "mimetype": "text/x-python",
   "name": "python",
   "nbconvert_exporter": "python",
   "pygments_lexer": "ipython3",
   "version": "3.5.4"
  }
 },
 "nbformat": 4,
 "nbformat_minor": 2
}
